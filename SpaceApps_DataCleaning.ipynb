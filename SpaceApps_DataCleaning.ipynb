{
 "cells": [
  {
   "cell_type": "markdown",
   "id": "d90a52af",
   "metadata": {},
   "source": [
    "Note: Need to run the 'pip 'cmd below once!"
   ]
  },
  {
   "cell_type": "code",
   "execution_count": null,
   "id": "be5a542d",
   "metadata": {},
   "outputs": [],
   "source": [
    "!pip install ttkbootstrap "
   ]
  },
  {
   "cell_type": "code",
   "execution_count": null,
   "id": "08127f83",
   "metadata": {},
   "outputs": [],
   "source": [
    "from tkinter import *\n",
    "import pandas as pd\n",
    "from PIL import Image,ImageTk\n",
    "\n",
    "# Modifications to GUI interface\n",
    "import tkinter as tk\n",
    "import ttkbootstrap as ttk\n",
    "from ttkbootstrap.constants import *\n"
   ]
  },
  {
   "cell_type": "code",
   "execution_count": null,
   "id": "46382ea2",
   "metadata": {
    "scrolled": true
   },
   "outputs": [],
   "source": [
    "df = pd.read_excel(r'BeASpaceGeologist\\Sample_Composition_Data.csv')"
   ]
  },
  {
   "cell_type": "code",
   "execution_count": null,
   "id": "5444f795",
   "metadata": {},
   "outputs": [],
   "source": [
    "# Create an instance of tkinter frame\n",
    "root = ttk.Window(themename = \"yeti\")\n",
    "\n",
    "# Adjust size \n",
    "root.geometry( \"800x800\" )\n",
    "\n",
    "# Load an image in the script\n",
    "img= (Image.open(\"rockstar.png\"))\n",
    "\n",
    "# Resize the image using resize method\n",
    "resized_image= img.resize((714,485), Image.ANTIALIAS)\n",
    "new_image= ImageTk.PhotoImage(resized_image)\n",
    "\n",
    "# Change the label text and image\n",
    "def show(): \n",
    "    label.configure( text = clicked.get(), font = (\"Arial\", 20))\n",
    "    \n",
    "    img2=(Image.open(\"rocks/\" + clicked.get() + \".jpg\"))\n",
    "    resized_rocks= img2.resize((200,200), Image.ANTIALIAS)\n",
    "    new_rocks= ImageTk.PhotoImage(resized_rocks)\n",
    "    \n",
    "    label_image.configure(image=new_rocks)\n",
    "    label_image.image=new_rocks    \n",
    "    \n",
    "#column names\n",
    "namesRocks = df.to_numpy()[:, 0]\n",
    "namesRocks = namesRocks[:]\n",
    "namesRocks = namesRocks.tolist()\n",
    "    \n",
    "# Dropdown menu options \n",
    "options = namesRocks\n",
    " \n",
    "# datatype of menu text \n",
    "clicked = StringVar() \n",
    "  \n",
    "# initial menu text \n",
    "clicked.set( \"Select Your Rock\") \n",
    "  \n",
    "# Create Dropdown menu \n",
    "drop = OptionMenu( root , clicked , *options ) \n",
    "drop.pack() \n",
    "  \n",
    "# Create button, it will change label text  and change image\n",
    "button = Button( root , text = \"Enter\", font = (\"Arial\", 10), command = show ).pack() \n",
    "\n",
    "# Create Label for rock name\n",
    "label = Label( root , text = \" \", font = (\"Arial\", 20)) \n",
    "label.pack() \n",
    "\n",
    "# Create a label to display the image\n",
    "label_image = Label(root,image= new_image)\n",
    "label_image.pack()\n",
    "\n",
    "# Execute tkinter\n",
    "root.bind(\"<Return>\", show)\n",
    "root.mainloop() "
   ]
  },
  {
   "cell_type": "code",
   "execution_count": null,
   "id": "55333b8a",
   "metadata": {},
   "outputs": [],
   "source": []
  },
  {
   "cell_type": "markdown",
   "id": "3f3f089e",
   "metadata": {},
   "source": [
    "EXTRAS BELOW"
   ]
  },
  {
   "cell_type": "code",
   "execution_count": null,
   "id": "20d6d278",
   "metadata": {},
   "outputs": [],
   "source": [
    "# Import required libraries\n",
    "from tkinter import *\n",
    "from PIL import ImageTk, Image\n",
    "\n",
    "# Create an instance of tkinter window\n",
    "win = Tk()\n",
    "\n",
    "# Define the geometry of the window\n",
    "win.geometry(\"700x500\")\n",
    "\n",
    "frame = Frame(win, width=50, height=50)\n",
    "frame = img.resize((50, 50), Image.ANTIALIAS) #\n",
    "frame.pack()\n",
    "frame.place(anchor='center', relx=0.5, rely=0.5)\n",
    "\n",
    "# Create an object of tkinter ImageTk\n",
    "img = ImageTk.PhotoImage(Image.open(\"forest.jpg\"))\n",
    "win.mainloop()"
   ]
  },
  {
   "cell_type": "code",
   "execution_count": null,
   "id": "fd6bd9b2",
   "metadata": {},
   "outputs": [],
   "source": [
    "#Import the required Libraries\n",
    "from tkinter import *\n",
    "from PIL import Image,ImageTk\n",
    "\n",
    "#Create an instance of tkinter frame\n",
    "win = Tk()\n",
    "\n",
    "#Set the geometry of tkinter frame\n",
    "win.geometry(\"750x270\")\n",
    "\n",
    "#Create a canvas\n",
    "canvas= Canvas(win, width= 600, height= 400)\n",
    "canvas.pack()\n",
    "\n",
    "#Load an image in the script\n",
    "img= (Image.open(\"forest.jpg\"))\n",
    "\n",
    "#Resize the Image using resize method\n",
    "resized_image= img.resize((300,205), Image.ANTIALIAS)\n",
    "new_image= ImageTk.PhotoImage(resized_image)\n",
    "\n",
    "#Add image to the Canvas Items\n",
    "canvas.create_image(20,20, anchor=NW, image=new_image)\n",
    "\n",
    "win.mainloop()"
   ]
  },
  {
   "cell_type": "code",
   "execution_count": null,
   "id": "07b7b30a",
   "metadata": {},
   "outputs": [],
   "source": [
    "from tkinter import *\n",
    "from ttkbootstrap.constants import *\n",
    "import ttkbootstrap as tb\n",
    "\n",
    "root = tb.Window(themename = \"superhero\")\n",
    "\n",
    "root.title(\"TTK Bootstrap\")\n",
    "\n",
    "my_label = tb.Label(text = \"Hello World!\" , font = (\"Helvetica\" , 20), bootstyle = \"default\" )\n",
    "my_label.pack(pady = 50)\n",
    "root.geometry('500x350')\n",
    "\n",
    "root.mainloop()\n"
   ]
  },
  {
   "cell_type": "code",
   "execution_count": null,
   "id": "94c1ce5c",
   "metadata": {},
   "outputs": [],
   "source": []
  },
  {
   "cell_type": "code",
   "execution_count": null,
   "id": "f4797a49",
   "metadata": {},
   "outputs": [],
   "source": []
  }
 ],
 "metadata": {
  "kernelspec": {
   "display_name": "Python 3",
   "language": "python",
   "name": "python3"
  },
  "language_info": {
   "codemirror_mode": {
    "name": "ipython",
    "version": 3
   },
   "file_extension": ".py",
   "mimetype": "text/x-python",
   "name": "python",
   "nbconvert_exporter": "python",
   "pygments_lexer": "ipython3",
   "version": "3.8.8"
  }
 },
 "nbformat": 4,
 "nbformat_minor": 5
}
